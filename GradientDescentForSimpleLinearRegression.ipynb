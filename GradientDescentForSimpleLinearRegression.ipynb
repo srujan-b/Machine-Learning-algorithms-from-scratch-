{
  "nbformat": 4,
  "nbformat_minor": 0,
  "metadata": {
    "colab": {
      "provenance": [],
      "authorship_tag": "ABX9TyMwk6jNfwuY8CZ8q/3tpl7i",
      "include_colab_link": true
    },
    "kernelspec": {
      "name": "python3",
      "display_name": "Python 3"
    },
    "language_info": {
      "name": "python"
    }
  },
  "cells": [
    {
      "cell_type": "markdown",
      "metadata": {
        "id": "view-in-github",
        "colab_type": "text"
      },
      "source": [
        "<a href=\"https://colab.research.google.com/github/srujan-b/Machine-Learning-algorithms-from-scratch-/blob/main/GradientDescentForSimpleLinearRegression.ipynb\" target=\"_parent\"><img src=\"https://colab.research.google.com/assets/colab-badge.svg\" alt=\"Open In Colab\"/></a>"
      ]
    },
    {
      "cell_type": "code",
      "execution_count": 1,
      "metadata": {
        "id": "OGRmgGP7Phbg"
      },
      "outputs": [],
      "source": [
        "from sklearn.datasets import make_regression\n",
        "import numpy as np\n",
        "from sklearn.model_selection import cross_val_score"
      ]
    },
    {
      "cell_type": "code",
      "source": [
        "X,y = make_regression(n_samples=100, n_features=1, n_informative=1, n_targets=1,noise=20,random_state=13)"
      ],
      "metadata": {
        "id": "1vAQHWOBMnZA"
      },
      "execution_count": 30,
      "outputs": []
    },
    {
      "cell_type": "code",
      "source": [
        "class GDRegressor:\n",
        "\n",
        "  def __init__(self,learningRate,epochs):\n",
        "\n",
        "    self.coef_ = 10\n",
        "    self.intercept_  = -120\n",
        "    self.learningRate = learningRate\n",
        "    self.epochs = epochs\n",
        "\n",
        "  def fit(self,X,y):\n",
        "    X = X.ravel()\n",
        "    for i in range(self.epochs):\n",
        "\n",
        "      loss_slope_b = -2 * np.sum( y - self.coef_ * X - self.intercept_)\n",
        "      loss_slope_m = -2 * np.sum((y - self.coef_ * X - self.intercept_) * X)\n",
        "      self.intercept_ = self.intercept_ - (self.learningRate * loss_slope_b)\n",
        "      self.coef_ = self.coef_ - (self.learningRate * loss_slope_m)\n",
        "\n",
        "  def predict(self, X):\n",
        "\n",
        "    return self.coef_ * X + self.intercept_\n",
        ""
      ],
      "metadata": {
        "id": "RODN986iasvu"
      },
      "execution_count": 25,
      "outputs": []
    },
    {
      "cell_type": "code",
      "source": [
        "gd = GDRegressor(0.001,100)"
      ],
      "metadata": {
        "id": "cMIao5Pnc1rG"
      },
      "execution_count": 26,
      "outputs": []
    },
    {
      "cell_type": "code",
      "source": [
        "gd.fit(X,y)\n",
        "gd.predict(X)"
      ],
      "metadata": {
        "id": "maanupgAc5vq"
      },
      "execution_count": null,
      "outputs": []
    },
    {
      "cell_type": "code",
      "source": [],
      "metadata": {
        "id": "HA_W1ssoBIkG"
      },
      "execution_count": null,
      "outputs": []
    }
  ]
}